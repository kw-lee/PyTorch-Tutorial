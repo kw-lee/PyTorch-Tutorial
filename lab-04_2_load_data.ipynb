{
 "cells": [
  {
   "cell_type": "markdown",
   "metadata": {},
   "source": [
    "# Lab 4-2: Load Data"
   ]
  },
  {
   "cell_type": "markdown",
   "metadata": {},
   "source": [
    "Author: Seungjae Lee (이승재)"
   ]
  },
  {
   "cell_type": "markdown",
   "metadata": {},
   "source": [
    "<div class=\"alert alert-warning\">\n",
    "    We use elemental PyTorch to implement linear regression here. However, in most actual applications, abstractions such as <code>nn.Module</code> or <code>nn.Linear</code> are used.\n",
    "</div>"
   ]
  },
  {
   "cell_type": "markdown",
   "metadata": {},
   "source": [
    "## Slicing 1D Array"
   ]
  },
  {
   "cell_type": "code",
   "execution_count": 1,
   "metadata": {},
   "outputs": [],
   "source": [
    "nums = [0, 1, 2, 3, 4]"
   ]
  },
  {
   "cell_type": "code",
   "execution_count": 2,
   "metadata": {},
   "outputs": [
    {
     "name": "stdout",
     "output_type": "stream",
     "text": [
      "[0, 1, 2, 3, 4]\n"
     ]
    }
   ],
   "source": [
    "print(nums)"
   ]
  },
  {
   "cell_type": "markdown",
   "metadata": {},
   "source": [
    "index 2에서 4 전까지 가져와라. (앞 포함, 뒤 비포함)"
   ]
  },
  {
   "cell_type": "code",
   "execution_count": 3,
   "metadata": {},
   "outputs": [
    {
     "name": "stdout",
     "output_type": "stream",
     "text": [
      "[2, 3]\n"
     ]
    }
   ],
   "source": [
    "print(nums[2:4])"
   ]
  },
  {
   "cell_type": "markdown",
   "metadata": {},
   "source": [
    "index 2부터 다 가져와라."
   ]
  },
  {
   "cell_type": "code",
   "execution_count": 4,
   "metadata": {},
   "outputs": [
    {
     "name": "stdout",
     "output_type": "stream",
     "text": [
      "[2, 3, 4]\n"
     ]
    }
   ],
   "source": [
    "print(nums[2:])"
   ]
  },
  {
   "cell_type": "markdown",
   "metadata": {},
   "source": [
    "index 2 전까지 가져와라. (역시 뒤는 비포함)"
   ]
  },
  {
   "cell_type": "code",
   "execution_count": 5,
   "metadata": {},
   "outputs": [
    {
     "name": "stdout",
     "output_type": "stream",
     "text": [
      "[0, 1]\n"
     ]
    }
   ],
   "source": [
    "print(nums[:2])"
   ]
  },
  {
   "cell_type": "markdown",
   "metadata": {},
   "source": [
    "전부 가져와라"
   ]
  },
  {
   "cell_type": "code",
   "execution_count": 6,
   "metadata": {},
   "outputs": [
    {
     "name": "stdout",
     "output_type": "stream",
     "text": [
      "[0, 1, 2, 3, 4]\n"
     ]
    }
   ],
   "source": [
    "print(nums[:])"
   ]
  },
  {
   "cell_type": "markdown",
   "metadata": {},
   "source": [
    "마지막 index 전까지 가져와라. (뒤는 비포함!)"
   ]
  },
  {
   "cell_type": "code",
   "execution_count": 7,
   "metadata": {},
   "outputs": [
    {
     "name": "stdout",
     "output_type": "stream",
     "text": [
      "[0, 1, 2, 3]\n"
     ]
    }
   ],
   "source": [
    "print(nums[:-1])"
   ]
  },
  {
   "cell_type": "markdown",
   "metadata": {},
   "source": [
    "assign 도 가능!"
   ]
  },
  {
   "cell_type": "code",
   "execution_count": 8,
   "metadata": {},
   "outputs": [],
   "source": [
    "nums[2:4] = [8, 9]"
   ]
  },
  {
   "cell_type": "code",
   "execution_count": 9,
   "metadata": {},
   "outputs": [
    {
     "name": "stdout",
     "output_type": "stream",
     "text": [
      "[0, 1, 8, 9, 4]\n"
     ]
    }
   ],
   "source": [
    "print(nums)"
   ]
  },
  {
   "cell_type": "markdown",
   "metadata": {},
   "source": [
    "## Slicing 2D Array"
   ]
  },
  {
   "cell_type": "code",
   "execution_count": 10,
   "metadata": {},
   "outputs": [],
   "source": [
    "import numpy as np"
   ]
  },
  {
   "cell_type": "code",
   "execution_count": 11,
   "metadata": {},
   "outputs": [],
   "source": [
    "b = np.array([[1, 2, 3, 4], [5, 6, 7, 8], [9, 10, 11, 12]])"
   ]
  },
  {
   "cell_type": "code",
   "execution_count": 12,
   "metadata": {},
   "outputs": [
    {
     "name": "stdout",
     "output_type": "stream",
     "text": [
      "[[ 1  2  3  4]\n",
      " [ 5  6  7  8]\n",
      " [ 9 10 11 12]]\n"
     ]
    }
   ],
   "source": [
    "print(b)"
   ]
  },
  {
   "cell_type": "code",
   "execution_count": 13,
   "metadata": {},
   "outputs": [
    {
     "data": {
      "text/plain": [
       "array([ 2,  6, 10])"
      ]
     },
     "execution_count": 13,
     "metadata": {},
     "output_type": "execute_result"
    }
   ],
   "source": [
    "b[:, 1]"
   ]
  },
  {
   "cell_type": "code",
   "execution_count": 18,
   "metadata": {},
   "outputs": [
    {
     "data": {
      "text/plain": [
       "array([ 9, 10, 11, 12])"
      ]
     },
     "execution_count": 18,
     "metadata": {},
     "output_type": "execute_result"
    }
   ],
   "source": [
    "b[-1] # 뒤에서 첫 번째"
   ]
  },
  {
   "cell_type": "code",
   "execution_count": 19,
   "metadata": {},
   "outputs": [
    {
     "data": {
      "text/plain": [
       "array([ 9, 10, 11, 12])"
      ]
     },
     "execution_count": 19,
     "metadata": {},
     "output_type": "execute_result"
    }
   ],
   "source": [
    "b[-1, :]"
   ]
  },
  {
   "cell_type": "code",
   "execution_count": 20,
   "metadata": {},
   "outputs": [
    {
     "data": {
      "text/plain": [
       "array([ 9, 10, 11, 12])"
      ]
     },
     "execution_count": 20,
     "metadata": {},
     "output_type": "execute_result"
    }
   ],
   "source": [
    "b[-1, ...]"
   ]
  },
  {
   "cell_type": "code",
   "execution_count": 21,
   "metadata": {},
   "outputs": [
    {
     "data": {
      "text/plain": [
       "array([[1, 2, 3, 4],\n",
       "       [5, 6, 7, 8]])"
      ]
     },
     "execution_count": 21,
     "metadata": {},
     "output_type": "execute_result"
    }
   ],
   "source": [
    "b[0:2, :]"
   ]
  },
  {
   "cell_type": "markdown",
   "metadata": {},
   "source": [
    "## Loading Data from `.csv` file"
   ]
  },
  {
   "cell_type": "code",
   "execution_count": 22,
   "metadata": {},
   "outputs": [],
   "source": [
    "import numpy as np"
   ]
  },
  {
   "cell_type": "code",
   "execution_count": 23,
   "metadata": {},
   "outputs": [],
   "source": [
    "xy = np.loadtxt('data-01-test-score.csv', delimiter=',', dtype=np.float32)"
   ]
  },
  {
   "cell_type": "code",
   "execution_count": 24,
   "metadata": {},
   "outputs": [],
   "source": [
    "x_data = xy[:, 0:-1]\n",
    "y_data = xy[:, [-1]]"
   ]
  },
  {
   "cell_type": "code",
   "execution_count": 25,
   "metadata": {},
   "outputs": [
    {
     "name": "stdout",
     "output_type": "stream",
     "text": [
      "(25, 3)\n",
      "25\n",
      "[[ 73.  80.  75.]\n",
      " [ 93.  88.  93.]\n",
      " [ 89.  91.  90.]\n",
      " [ 96.  98. 100.]\n",
      " [ 73.  66.  70.]]\n"
     ]
    }
   ],
   "source": [
    "print(x_data.shape) # x_data shape\n",
    "print(len(x_data))  # x_data 길이\n",
    "print(x_data[:5])   # 첫 다섯 개"
   ]
  },
  {
   "cell_type": "code",
   "execution_count": 26,
   "metadata": {},
   "outputs": [
    {
     "name": "stdout",
     "output_type": "stream",
     "text": [
      "(25, 1)\n",
      "25\n",
      "[[152.]\n",
      " [185.]\n",
      " [180.]\n",
      " [196.]\n",
      " [142.]]\n"
     ]
    }
   ],
   "source": [
    "print(y_data.shape) # y_data shape\n",
    "print(len(y_data))  # y_data 길이\n",
    "print(y_data[:5])   # 첫 다섯 개"
   ]
  },
  {
   "cell_type": "markdown",
   "metadata": {},
   "source": [
    "## Imports"
   ]
  },
  {
   "cell_type": "code",
   "execution_count": 27,
   "metadata": {},
   "outputs": [],
   "source": [
    "import torch\n",
    "import torch.nn as nn\n",
    "import torch.nn.functional as F\n",
    "import torch.optim as optim"
   ]
  },
  {
   "cell_type": "code",
   "execution_count": 28,
   "metadata": {},
   "outputs": [
    {
     "data": {
      "text/plain": [
       "<torch._C.Generator at 0x10b914c50>"
      ]
     },
     "execution_count": 28,
     "metadata": {},
     "output_type": "execute_result"
    }
   ],
   "source": [
    "# For reproducibility\n",
    "torch.manual_seed(1)"
   ]
  },
  {
   "cell_type": "markdown",
   "metadata": {},
   "source": [
    "## Low-level Implementation"
   ]
  },
  {
   "cell_type": "code",
   "execution_count": 29,
   "metadata": {},
   "outputs": [
    {
     "name": "stdout",
     "output_type": "stream",
     "text": [
      "Epoch    0/20 Cost: 26811.960938\n",
      "Epoch    1/20 Cost: 9920.529297\n",
      "Epoch    2/20 Cost: 3675.298828\n",
      "Epoch    3/20 Cost: 1366.260620\n",
      "Epoch    4/20 Cost: 512.542480\n",
      "Epoch    5/20 Cost: 196.896606\n",
      "Epoch    6/20 Cost: 80.190994\n",
      "Epoch    7/20 Cost: 37.038696\n",
      "Epoch    8/20 Cost: 21.081335\n",
      "Epoch    9/20 Cost: 15.178759\n",
      "Epoch   10/20 Cost: 12.993677\n",
      "Epoch   11/20 Cost: 12.183028\n",
      "Epoch   12/20 Cost: 11.880536\n",
      "Epoch   13/20 Cost: 11.765964\n",
      "Epoch   14/20 Cost: 11.720855\n",
      "Epoch   15/20 Cost: 11.701437\n",
      "Epoch   16/20 Cost: 11.691509\n",
      "Epoch   17/20 Cost: 11.685122\n",
      "Epoch   18/20 Cost: 11.680006\n",
      "Epoch   19/20 Cost: 11.675371\n",
      "Epoch   20/20 Cost: 11.670942\n"
     ]
    }
   ],
   "source": [
    "# 데이터\n",
    "x_train = torch.FloatTensor(x_data)\n",
    "y_train = torch.FloatTensor(y_data)\n",
    "# 모델 초기화\n",
    "W = torch.zeros((3, 1), requires_grad=True)\n",
    "b = torch.zeros(1, requires_grad=True)\n",
    "# optimizer 설정\n",
    "optimizer = optim.SGD([W, b], lr=1e-5)\n",
    "loss_rec = []\n",
    "\n",
    "nb_epochs = 20\n",
    "for epoch in range(nb_epochs + 1):\n",
    "    \n",
    "    # H(x) 계산\n",
    "    hypothesis = x_train.matmul(W) + b # or .mm or @\n",
    "\n",
    "    # cost 계산\n",
    "    cost = torch.mean((hypothesis - y_train) ** 2)\n",
    "\n",
    "    # cost로 H(x) 개선\n",
    "    optimizer.zero_grad()\n",
    "    cost.backward()\n",
    "    optimizer.step()\n",
    "\n",
    "    print('Epoch {:4d}/{} Cost: {:.6f}'.format(\n",
    "        epoch, nb_epochs, cost.item()\n",
    "    ))\n",
    "    \n",
    "    loss_rec.append(cost.item())"
   ]
  },
  {
   "cell_type": "code",
   "execution_count": 34,
   "metadata": {},
   "outputs": [
    {
     "data": {
      "image/png": "[encoded data removed]",
      "text/plain": [
       "<Figure size 432x288 with 1 Axes>"
      ]
     },
     "metadata": {
      "needs_background": "light"
     },
     "output_type": "display_data"
    }
   ],
   "source": [
    "import matplotlib.pyplot as plt\n",
    "\n",
    "plt.plot(range(21), loss_rec, 'r--')\n",
    "plt.show()"
   ]
  },
  {
   "cell_type": "markdown",
   "metadata": {},
   "source": [
    "## High-level Implementation with `nn.Module`"
   ]
  },
  {
   "cell_type": "code",
   "execution_count": 35,
   "metadata": {},
   "outputs": [],
   "source": [
    "class MultivariateLinearRegressionModel(nn.Module):\n",
    "    def __init__(self):\n",
    "        super().__init__()\n",
    "        self.linear = nn.Linear(3, 1)\n",
    "\n",
    "    def forward(self, x):\n",
    "        return self.linear(x)"
   ]
  },
  {
   "cell_type": "code",
   "execution_count": 36,
   "metadata": {},
   "outputs": [
    {
     "name": "stdout",
     "output_type": "stream",
     "text": [
      "Epoch    0/20 Cost: 28693.488281\n",
      "Epoch    1/20 Cost: 10618.750000\n",
      "Epoch    2/20 Cost: 3936.014648\n",
      "Epoch    3/20 Cost: 1465.219482\n",
      "Epoch    4/20 Cost: 551.693665\n",
      "Epoch    5/20 Cost: 213.934662\n",
      "Epoch    6/20 Cost: 89.052185\n",
      "Epoch    7/20 Cost: 42.875980\n",
      "Epoch    8/20 Cost: 25.799665\n",
      "Epoch    9/20 Cost: 19.482405\n",
      "Epoch   10/20 Cost: 17.143095\n",
      "Epoch   11/20 Cost: 16.274523\n",
      "Epoch   12/20 Cost: 15.949729\n",
      "Epoch   13/20 Cost: 15.825976\n",
      "Epoch   14/20 Cost: 15.776578\n",
      "Epoch   15/20 Cost: 15.754668\n",
      "Epoch   16/20 Cost: 15.742909\n",
      "Epoch   17/20 Cost: 15.734905\n",
      "Epoch   18/20 Cost: 15.728312\n",
      "Epoch   19/20 Cost: 15.722223\n",
      "Epoch   20/20 Cost: 15.716335\n"
     ]
    }
   ],
   "source": [
    "# 데이터\n",
    "x_train = torch.FloatTensor(x_data)\n",
    "y_train = torch.FloatTensor(y_data)\n",
    "# 모델 초기화\n",
    "model = MultivariateLinearRegressionModel()\n",
    "# optimizer 설정\n",
    "optimizer = optim.SGD(model.parameters(), lr=1e-5)\n",
    "\n",
    "nb_epochs = 20\n",
    "for epoch in range(nb_epochs+1):\n",
    "    \n",
    "    # H(x) 계산\n",
    "    prediction = model(x_train)\n",
    "    \n",
    "    # cost 계산\n",
    "    cost = F.mse_loss(prediction, y_train)\n",
    "    \n",
    "    # cost로 H(x) 개선\n",
    "    optimizer.zero_grad()\n",
    "    cost.backward()\n",
    "    optimizer.step()\n",
    "    \n",
    "    # 20번마다 로그 출력\n",
    "    print('Epoch {:4d}/{} Cost: {:.6f}'.format(\n",
    "        epoch, nb_epochs, cost.item()\n",
    "    ))"
   ]
  },
  {
   "cell_type": "markdown",
   "metadata": {},
   "source": [
    "## Dataset and DataLoader"
   ]
  },
  {
   "cell_type": "markdown",
   "metadata": {},
   "source": [
    "<div class=\"alert alert-warning\">\n",
    "    pandas 기초지식이 필요할 것 같다\n",
    "</div>"
   ]
  },
  {
   "cell_type": "markdown",
   "metadata": {},
   "source": [
    "너무 데이터가 크면 `x_data`, `y_data` 를 전부 다 가져오지 말고, 필요한 배치만 가져올 수 밖에 없다."
   ]
  },
  {
   "cell_type": "markdown",
   "metadata": {},
   "source": [
    "[PyTorch Data Loading and Processing tutorial](https://pytorch.org/tutorials/beginner/data_loading_tutorial.html#iterating-through-the-dataset)"
   ]
  },
  {
   "cell_type": "markdown",
   "metadata": {},
   "source": [
    "minibatch 구현해봄"
   ]
  },
  {
   "cell_type": "code",
   "execution_count": 37,
   "metadata": {},
   "outputs": [],
   "source": [
    "from torch.utils.data import Dataset\n",
    "\n",
    "class CustomDataset(Dataset):\n",
    "    def __init__(self):\n",
    "        self.x_data = x_data\n",
    "        self.y_data = y_data\n",
    "        \n",
    "    def __len__(self):\n",
    "        return len(self.x_data)\n",
    "\n",
    "    def __getitem__(self, idx):\n",
    "        x = torch.FloatTensor(self.x_data[idx]) \n",
    "        y = torch.FloatTensor(self.y_data[idx])\n",
    "        return x, y\n",
    "\n",
    "dataset = CustomDataset()"
   ]
  },
  {
   "cell_type": "code",
   "execution_count": 40,
   "metadata": {},
   "outputs": [
    {
     "data": {
      "text/plain": [
       "array([[ 73.,  80.,  75.],\n",
       "       [ 93.,  88.,  93.],\n",
       "       [ 89.,  91.,  90.],\n",
       "       [ 96.,  98., 100.],\n",
       "       [ 73.,  66.,  70.],\n",
       "       [ 53.,  46.,  55.],\n",
       "       [ 69.,  74.,  77.],\n",
       "       [ 47.,  56.,  60.],\n",
       "       [ 87.,  79.,  90.],\n",
       "       [ 79.,  70.,  88.],\n",
       "       [ 69.,  70.,  73.],\n",
       "       [ 70.,  65.,  74.],\n",
       "       [ 93.,  95.,  91.],\n",
       "       [ 79.,  80.,  73.],\n",
       "       [ 70.,  73.,  78.],\n",
       "       [ 93.,  89.,  96.],\n",
       "       [ 78.,  75.,  68.],\n",
       "       [ 81.,  90.,  93.],\n",
       "       [ 88.,  92.,  86.],\n",
       "       [ 78.,  83.,  77.],\n",
       "       [ 82.,  86.,  90.],\n",
       "       [ 86.,  82.,  89.],\n",
       "       [ 78.,  83.,  85.],\n",
       "       [ 76.,  83.,  71.],\n",
       "       [ 96.,  93.,  95.]], dtype=float32)"
      ]
     },
     "execution_count": 40,
     "metadata": {},
     "output_type": "execute_result"
    }
   ],
   "source": [
    "dataset.x_data"
   ]
  },
  {
   "cell_type": "code",
   "execution_count": 58,
   "metadata": {},
   "outputs": [],
   "source": [
    "from torch.utils.data import DataLoader\n",
    "\n",
    "bs = 8\n",
    "dataloader = DataLoader(dataset, batch_size=bs, shuffle=True)"
   ]
  },
  {
   "cell_type": "markdown",
   "metadata": {},
   "source": [
    "```\n",
    "batch_size=2\n",
    "```\n",
    "각 minibatch의 크기; 통상적으로 2의 제곱수로 설정한다 (16, 32, 64, 128, 256, 512...)\n",
    "\n",
    "```\n",
    "shuffle=True\n",
    "```\n",
    "Epoch 마다 데이터셋을 섞어서, 데이터가 학습되는 순서를 바꾼다."
   ]
  },
  {
   "cell_type": "code",
   "execution_count": 61,
   "metadata": {},
   "outputs": [
    {
     "name": "stdout",
     "output_type": "stream",
     "text": [
      "Epoch    0/20 Batch 1/4 Cost: 8.647509\n",
      "Epoch    0/20 Batch 2/4 Cost: 18.588985\n",
      "Epoch    0/20 Batch 3/4 Cost: 11.712983\n",
      "Epoch    0/20 Batch 4/4 Cost: 0.084726\n",
      "Epoch    1/20 Batch 1/4 Cost: 18.019211\n",
      "Epoch    1/20 Batch 2/4 Cost: 8.549113\n",
      "Epoch    1/20 Batch 3/4 Cost: 9.792729\n",
      "Epoch    1/20 Batch 4/4 Cost: 13.628734\n",
      "Epoch    2/20 Batch 1/4 Cost: 15.688975\n",
      "Epoch    2/20 Batch 2/4 Cost: 12.945750\n",
      "Epoch    2/20 Batch 3/4 Cost: 9.132137\n",
      "Epoch    2/20 Batch 4/4 Cost: 3.033357\n",
      "Epoch    3/20 Batch 1/4 Cost: 7.702037\n",
      "Epoch    3/20 Batch 2/4 Cost: 10.951144\n",
      "Epoch    3/20 Batch 3/4 Cost: 16.755348\n",
      "Epoch    3/20 Batch 4/4 Cost: 5.273042\n",
      "Epoch    4/20 Batch 1/4 Cost: 3.211180\n",
      "Epoch    4/20 Batch 2/4 Cost: 2.992927\n",
      "Epoch    4/20 Batch 3/4 Cost: 26.427687\n",
      "Epoch    4/20 Batch 4/4 Cost: 36.089596\n",
      "Epoch    5/20 Batch 1/4 Cost: 16.707735\n",
      "Epoch    5/20 Batch 2/4 Cost: 12.489838\n",
      "Epoch    5/20 Batch 3/4 Cost: 9.198650\n",
      "Epoch    5/20 Batch 4/4 Cost: 16.043119\n",
      "Epoch    6/20 Batch 1/4 Cost: 17.486210\n",
      "Epoch    6/20 Batch 2/4 Cost: 13.158058\n",
      "Epoch    6/20 Batch 3/4 Cost: 5.760904\n",
      "Epoch    6/20 Batch 4/4 Cost: 14.347052\n",
      "Epoch    7/20 Batch 1/4 Cost: 10.288981\n",
      "Epoch    7/20 Batch 2/4 Cost: 15.475872\n",
      "Epoch    7/20 Batch 3/4 Cost: 10.250210\n",
      "Epoch    7/20 Batch 4/4 Cost: 14.336882\n",
      "Epoch    8/20 Batch 1/4 Cost: 5.093431\n",
      "Epoch    8/20 Batch 2/4 Cost: 25.412390\n",
      "Epoch    8/20 Batch 3/4 Cost: 8.798903\n",
      "Epoch    8/20 Batch 4/4 Cost: 0.687536\n",
      "Epoch    9/20 Batch 1/4 Cost: 6.692502\n",
      "Epoch    9/20 Batch 2/4 Cost: 10.498972\n",
      "Epoch    9/20 Batch 3/4 Cost: 17.446499\n",
      "Epoch    9/20 Batch 4/4 Cost: 10.288964\n",
      "Epoch   10/20 Batch 1/4 Cost: 14.103100\n",
      "Epoch   10/20 Batch 2/4 Cost: 20.450363\n",
      "Epoch   10/20 Batch 3/4 Cost: 3.190436\n",
      "Epoch   10/20 Batch 4/4 Cost: 0.351055\n",
      "Epoch   11/20 Batch 1/4 Cost: 12.131771\n",
      "Epoch   11/20 Batch 2/4 Cost: 14.945900\n",
      "Epoch   11/20 Batch 3/4 Cost: 6.679489\n",
      "Epoch   11/20 Batch 4/4 Cost: 11.876172\n",
      "Epoch   12/20 Batch 1/4 Cost: 16.433491\n",
      "Epoch   12/20 Batch 2/4 Cost: 12.527994\n",
      "Epoch   12/20 Batch 3/4 Cost: 7.966736\n",
      "Epoch   12/20 Batch 4/4 Cost: 3.805583\n",
      "Epoch   13/20 Batch 1/4 Cost: 7.911264\n",
      "Epoch   13/20 Batch 2/4 Cost: 18.143599\n",
      "Epoch   13/20 Batch 3/4 Cost: 9.811810\n",
      "Epoch   13/20 Batch 4/4 Cost: 4.407975\n",
      "Epoch   14/20 Batch 1/4 Cost: 4.977219\n",
      "Epoch   14/20 Batch 2/4 Cost: 8.120366\n",
      "Epoch   14/20 Batch 3/4 Cost: 23.303440\n",
      "Epoch   14/20 Batch 4/4 Cost: 0.024181\n",
      "Epoch   15/20 Batch 1/4 Cost: 12.051326\n",
      "Epoch   15/20 Batch 2/4 Cost: 9.983953\n",
      "Epoch   15/20 Batch 3/4 Cost: 13.098718\n",
      "Epoch   15/20 Batch 4/4 Cost: 1.505466\n",
      "Epoch   16/20 Batch 1/4 Cost: 13.606699\n",
      "Epoch   16/20 Batch 2/4 Cost: 14.928267\n",
      "Epoch   16/20 Batch 3/4 Cost: 6.889788\n",
      "Epoch   16/20 Batch 4/4 Cost: 2.415203\n",
      "Epoch   17/20 Batch 1/4 Cost: 21.135939\n",
      "Epoch   17/20 Batch 2/4 Cost: 3.742034\n",
      "Epoch   17/20 Batch 3/4 Cost: 11.555009\n",
      "Epoch   17/20 Batch 4/4 Cost: 0.011903\n",
      "Epoch   18/20 Batch 1/4 Cost: 5.817103\n",
      "Epoch   18/20 Batch 2/4 Cost: 21.446646\n",
      "Epoch   18/20 Batch 3/4 Cost: 7.603764\n",
      "Epoch   18/20 Batch 4/4 Cost: 0.010318\n",
      "Epoch   19/20 Batch 1/4 Cost: 8.544378\n",
      "Epoch   19/20 Batch 2/4 Cost: 6.963865\n",
      "Epoch   19/20 Batch 3/4 Cost: 20.329845\n",
      "Epoch   19/20 Batch 4/4 Cost: 5.591158\n",
      "Epoch   20/20 Batch 1/4 Cost: 19.666637\n",
      "Epoch   20/20 Batch 2/4 Cost: 13.182203\n",
      "Epoch   20/20 Batch 3/4 Cost: 4.441193\n",
      "Epoch   20/20 Batch 4/4 Cost: 0.737031\n"
     ]
    }
   ],
   "source": [
    "nb_epochs = 20 \n",
    "cost_rec = []\n",
    "for epoch in range(nb_epochs + 1):\n",
    "    for batch_idx, samples in enumerate(dataloader):\n",
    "        x_train, y_train = samples \n",
    "        # H(x) 계산 \n",
    "        prediction = model(x_train) \n",
    "        # cost 계산 \n",
    "        cost = F.mse_loss(prediction, y_train)\n",
    "        # cost로 H(x) 개선 \n",
    "        optimizer.zero_grad() \n",
    "        cost.backward() \n",
    "        optimizer.step()\n",
    "        print('Epoch {:4d}/{} Batch {}/{} Cost: {:.6f}'.format(\n",
    "            epoch, nb_epochs, batch_idx+1, len(dataloader), cost.item() \n",
    "        ))\n",
    "        cost_rec.append(cost.item())"
   ]
  },
  {
   "cell_type": "code",
   "execution_count": 64,
   "metadata": {},
   "outputs": [
    {
     "data": {
      "image/png": "[encoded data removed]",
      "text/plain": [
       "<Figure size 432x288 with 1 Axes>"
      ]
     },
     "metadata": {
      "needs_background": "light"
     },
     "output_type": "display_data"
    }
   ],
   "source": [
    "plt.plot(np.arange(len(cost_rec)), cost_rec, 'r-')\n",
    "plt.show()"
   ]
  }
 ],
 "metadata": {
  "kernelspec": {
   "display_name": "Python 3",
   "language": "python",
   "name": "python3"
  },
  "language_info": {
   "codemirror_mode": {
    "name": "ipython",
    "version": 3
   },
   "file_extension": ".py",
   "mimetype": "text/x-python",
   "name": "python",
   "nbconvert_exporter": "python",
   "pygments_lexer": "ipython3",
   "version": "3.7.3"
  }
 },
 "nbformat": 4,
 "nbformat_minor": 4
}
